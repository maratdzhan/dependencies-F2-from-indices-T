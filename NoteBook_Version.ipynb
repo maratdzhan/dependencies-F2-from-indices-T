{
 "cells": [
  {
   "cell_type": "markdown",
   "metadata": {},
   "source": [
    "<div><h1 align = 'center'>Восстановление зависимостей медианных частот F2 от индексов T</h1></div><div><h2 align = 'center'>Автор: Васильев Марат</h2></div><div><h3 align = 'center'>vasilyev-marat@ya.ru, +7(965)206-66-32</h3></div>"
   ]
  },
  {
   "cell_type": "code",
   "execution_count": null,
   "metadata": {},
   "outputs": [],
   "source": [
    "import pandas as pd\n",
    "import numpy as np\n",
    "import matplotlib.pyplot as plt\n",
    "import tkinter as tk\n",
    "from tkinter import *\n",
    "from tkinter import filedialog as fd\n",
    "from scipy.stats.stats import pearsonr\n",
    "import os"
   ]
  },
  {
   "cell_type": "markdown",
   "metadata": {},
   "source": [
    "<div><h3 align = 'Center'>Инициализация переменных</h3></div>"
   ]
  },
  {
   "cell_type": "code",
   "execution_count": 1,
   "metadata": {},
   "outputs": [
    {
     "ename": "NameError",
     "evalue": "name 'pd' is not defined",
     "output_type": "error",
     "traceback": [
      "\u001b[1;31m---------------------------------------------------------------------------\u001b[0m",
      "\u001b[1;31mNameError\u001b[0m                                 Traceback (most recent call last)",
      "\u001b[1;32m<ipython-input-1-d697e3dced88>\u001b[0m in \u001b[0;36m<module>\u001b[1;34m\u001b[0m\n\u001b[0;32m     13\u001b[0m \u001b[1;33m\u001b[0m\u001b[0m\n\u001b[0;32m     14\u001b[0m \u001b[1;31m## Глобальные таблицы индексов и частот\u001b[0m\u001b[1;33m\u001b[0m\u001b[1;33m\u001b[0m\u001b[1;33m\u001b[0m\u001b[0m\n\u001b[1;32m---> 15\u001b[1;33m \u001b[0mdata\u001b[0m \u001b[1;33m=\u001b[0m \u001b[0mpd\u001b[0m\u001b[1;33m.\u001b[0m\u001b[0mDataFrame\u001b[0m\u001b[1;33m(\u001b[0m\u001b[1;33m)\u001b[0m\u001b[1;33m;\u001b[0m\u001b[1;33m\u001b[0m\u001b[1;33m\u001b[0m\u001b[0m\n\u001b[0m\u001b[0;32m     16\u001b[0m \u001b[0mdata_tm\u001b[0m \u001b[1;33m=\u001b[0m \u001b[0mpd\u001b[0m\u001b[1;33m.\u001b[0m\u001b[0mDataFrame\u001b[0m\u001b[1;33m(\u001b[0m\u001b[1;33m)\u001b[0m\u001b[1;33m;\u001b[0m\u001b[1;33m\u001b[0m\u001b[1;33m\u001b[0m\u001b[0m\n",
      "\u001b[1;31mNameError\u001b[0m: name 'pd' is not defined"
     ]
    }
   ],
   "source": [
    "COLUMNS = ['YEAR', 'HOUR', 'JAN', 'FEB', 'MAR', 'APR', 'MAY', 'JUN', \\\n",
    "           'JUL', 'AUG', 'SEP', 'OCT', 'NOV', 'DEC']\n",
    "## Копирование массива месяцев\n",
    "MONTHS_ARR = COLUMNS[2:]\n",
    "## Максимальный год, учитываемый при построении регрессии\n",
    "MAX_YEAR = 2018\n",
    "## Исследуемый год\n",
    "OBS_YEAR = 2019\n",
    "\n",
    "## Файлы с данными. Заданы по умолчанию, при загрузке - изменяется название\n",
    "indices_filename = \"ind.txt\";\n",
    "frequences_filename = \"freq.txt\";\n",
    "\n",
    "## Глобальные таблицы индексов и частот\n",
    "data = pd.DataFrame();\n",
    "data_tm = pd.DataFrame();"
   ]
  },
  {
   "cell_type": "markdown",
   "metadata": {},
   "source": [
    "<div><h3 align = 'Center'>Сохранение массива в таблицу</h3></div>"
   ]
  },
  {
   "cell_type": "code",
   "execution_count": null,
   "metadata": {},
   "outputs": [],
   "source": [
    "def SaveTable(data, filename):\n",
    "    ## Создаем файл для записи\n",
    "    file = open(filename, 'w');\n",
    "    ## для всех элементов массива data\n",
    "    for line in data:\n",
    "        ## записываем элемент как строку в файл\n",
    "        file.write(str(line));\n",
    "    file.close()"
   ]
  },
  {
   "cell_type": "markdown",
   "metadata": {},
   "source": [
    "<div><h3 align = 'Center'>Обработка индексов Т</h3></div>"
   ]
  },
  {
   "cell_type": "code",
   "execution_count": null,
   "metadata": {},
   "outputs": [],
   "source": [
    "## Открыть файл \n",
    "def GetIndicesFile():\n",
    "    ## Выбор файла\n",
    "    fn = fd.askopenfilename()\n",
    "    if not fn:\n",
    "        ## Если не выбран - берем им по умолчанию\n",
    "        fn = indices_filename;\n",
    "    else:\n",
    "        ## Если выбран - парсим его\n",
    "        ParseIndices(fn);\n",
    "    indices_filename = fn;\n",
    "    l1.config(text = \"Файл индексов выбран\");\n",
    "    \n",
    "## Парсинг файла индексов\n",
    "def ParseIndices(file):\n",
    "    ## Заготовка массива\n",
    "    file_content = []\n",
    "    ## Открываем файл индексов для чтения\n",
    "    file_obj = open(file, 'r')\n",
    "    ## Флаг таблицы\n",
    "    table = False;\n",
    "    ## Для всех строк файла\n",
    "    for line in file_obj:\n",
    "        ## Знак \"=\" означает начало и конец таблицы, \n",
    "        ## если он найден:\n",
    "        if (line.find(\"=\") != -1): \n",
    "            ## Меняем флаг на противоположный\n",
    "            if (table):\n",
    "                table = False;\n",
    "            else:\n",
    "                table = True;\n",
    "        ## Если строка не флаг\n",
    "        else:\n",
    "            ## Если флаг таблицы активен\n",
    "            ## (то есть сейчас данные таблицы в строках)\n",
    "            if table:\n",
    "                ## Обрезаем пробелы в начале и конце, добавляем перенос строки\n",
    "                line = line.strip() + \"\\n\";\n",
    "                ## Добавляем в файл\n",
    "                file_content.append(line);\n",
    "    ## Как только обработали все строки - сохраняем в файл\n",
    "    WriteIndices(file_content);\n",
    "    \n",
    "## Сохранение индексов\n",
    "def WriteIndices(filec):\n",
    "    ## для всех строк\n",
    "    for i in range(0,len(filec)):\n",
    "        ## Убираем символы ^ и *\n",
    "        filec[i] = filec[i].replace('^', ' ').replace('*', ' ')\n",
    "    ## Как убрали - сохраняем таблицу и принимаем ее \"по умолчанию\"\n",
    "    SaveTable(filec, \"ind.txt\");\n",
    "    indices_filename = \"ind.txt\";"
   ]
  },
  {
   "cell_type": "markdown",
   "metadata": {},
   "source": [
    "<div><h3 align = 'Center'>Обработка частот F2</h3></div>"
   ]
  },
  {
   "cell_type": "code",
   "execution_count": null,
   "metadata": {},
   "outputs": [],
   "source": [
    "## Проверка, является ли строка символьной, \n",
    "## или содержит только числа\n",
    "def FindWords(line):\n",
    "    ## замена пробелов\n",
    "    mystr = line.replace(' ', '')\n",
    "    ## замена точек\n",
    "    mystr = mystr.replace('.', '')\n",
    "    ## замена переносов строки\n",
    "    mystr = mystr.replace('\\n', '')\n",
    "    ## должны остаться только числа. если нет - эта строка не подходит\n",
    "    t = mystr.isdigit()\n",
    "    ## возращаем истину или ложь (подходит строка или нет)\n",
    "    return ((t));\n",
    "\n",
    "## Предобработка\n",
    "def Preproc(filename):\n",
    "    ## Заготовка массива\n",
    "    temp_data_array = [];\n",
    "    ## заготовка переменной\n",
    "    year = 0\n",
    "    ## открываем файл частот\n",
    "    temp_data = open(filename, 'r');\n",
    "    ## для всех строк файлов\n",
    "    for line in temp_data:\n",
    "        ## проверяем, является ли строка числовой\n",
    "        if (FindWords(line)):\n",
    "            ## Если числовая, то смотрим длину\n",
    "            ## меньше 6 символов - это ГОД\n",
    "            if (len(line) < 6):\n",
    "                ## пишем, что год равен числу в этой строке\n",
    "                year = line.replace('\\n', '');\n",
    "            ## больше 6 символов\n",
    "            else:\n",
    "                ## обрезаем лишние пробелы в начале и конце строки\n",
    "                ## добавляем перенос строки\n",
    "                line = line.strip() + \"\\n\";\n",
    "                ## Создаем строку ГОД + первоначальная строка\n",
    "                line = year + \" \" + line\n",
    "                ## добавляем строку к массиву\n",
    "                temp_data_array.append(line);\n",
    "    ## закрываем файл\n",
    "    temp_data.close()\n",
    "    ## сохраняем данные в таблицу\n",
    "    SaveTable(temp_data_array, 'freq.txt');\n",
    "    ## устанавливаем имя по умолчанию\n",
    "    frequences_filename = \"freq.txt\";\n",
    "\n",
    "## Инициализация файла частот\n",
    "def GetFrequencesFile():\n",
    "    ## получить имя файла\n",
    "    fn = fd.askopenfilename()\n",
    "    ## если не получили\n",
    "    if not fn:\n",
    "        fn = frequences_filename;\n",
    "    ## если получили - парсим его\n",
    "    else:\n",
    "        Preproc(frequences_filename);\n",
    "    frequences_filename = fn;\n",
    "    l1.config(text = \"Файл частот выбран\");\n",
    "    ##"
   ]
  },
  {
   "cell_type": "markdown",
   "metadata": {},
   "source": [
    "<div><h3 align = 'Center'>Загрузка таблиц из файлов, удаление \"артефактов\" и запуск основного цикла расчета</h3></div>"
   ]
  },
  {
   "cell_type": "code",
   "execution_count": null,
   "metadata": {},
   "outputs": [],
   "source": [
    "## Обработка основного цикла\n",
    "def SetDependencies():\n",
    "    ## открываются файлы как таблицы\n",
    "    data, data_tm = Import();\n",
    "    ## удаляются пустые столбцы, если есть\n",
    "    data = DropEmpty(data);\n",
    "    data_tm = DropEmpty(data_tm);\n",
    "    ## запуск основного цикла\n",
    "    ## результатом будет массив - таблица\n",
    "    ot = mainCycle(data, data_tm);\n",
    "    ## сохраняем результат\n",
    "    SaveTable(ot,\"result_table.txt\");\n",
    "\n",
    "## Импорт обработанных данных\n",
    "def Import():\n",
    "    ## Открыть таблицу частот, разделитель - пробел, имена столбцов из массива COLUMNS\n",
    "    ## пропуск двойных пробелов, вместо индексов - столбец YEAR\n",
    "    data_tm = pd.read_csv(frequences_filename, sep = ' ', \\\n",
    "                     names = COLUMNS, skipinitialspace = True, index_col = 'YEAR')\n",
    "    ## Для таблицы индексов другие имена столбцов\n",
    "    fcd = ['YEAR', 'JAN', 'FEB','MAR', 'APR', 'MAY', 'JUN', 'JUL', 'AUG', 'SEP', 'OCT', 'NOV', 'DEC']\n",
    "    ## Открыть как таблицу файл индексов, разделитель - пробел, имена из массива fcd\n",
    "    ## пропускаем двойные пробелы, вместо индексов - столбец YEAR\n",
    "    data = pd.read_csv(indices_filename, sep = ' ', names = fcd, skipinitialspace = True,  index_col = 'YEAR')\n",
    "    return data, data_tm;\n",
    "    \n",
    "## Выбрасываем пустые столбцы\n",
    "def DropEmpty(data):\n",
    "    l1.config(text = \"Приведение данных к табличному виду\");\n",
    "    ## Для всех столбцов таблицы data\n",
    "    for i in data.columns:\n",
    "        # если такого имени столбца нет в массиве COLUMNS \n",
    "        if (i not in COLUMNS):\n",
    "            ## Выбросить столбец\n",
    "            data.drop(i, axis = 1, inplace = True)\n",
    "    return data;"
   ]
  },
  {
   "cell_type": "markdown",
   "metadata": {},
   "source": [
    "<div><h3 align = 'Center'>Построение гиперболы</h3></div>"
   ]
  },
  {
   "cell_type": "code",
   "execution_count": null,
   "metadata": {},
   "outputs": [],
   "source": [
    "def cube_funct(coefficients, arguments):\n",
    "    ## Получили 4 коэффциеинта и массив аргументов.\n",
    "    ## Методами numpy перемножаем их\n",
    "    f = (coefficients[0]+coefficients[1]*arguments+\\\n",
    "        coefficients[2]*(arguments**2)+coefficients[3]*(arguments**3))\n",
    "    ## Возвращаем массив значений функции\n",
    "    return f;"
   ]
  },
  {
   "cell_type": "markdown",
   "metadata": {},
   "source": [
    "<div><h3 align = 'Center'>Отрисовка данных</h3></div>"
   ]
  },
  {
   "cell_type": "code",
   "execution_count": null,
   "metadata": {},
   "outputs": [],
   "source": [
    "#### Отрисовка графиков\n",
    "##\n",
    "## на вход массивы t, f2 - индексы и частоты измеренные\n",
    "## x, y - индексы и частоты посчитанные\n",
    "## correlation_coeff - коэффициенты регрессии\n",
    "## points - точки [предсказанные [T, F2], фактические [T, F2]]\n",
    "## MONTHS, HOURS - месяцы и часы, для которых строится график\n",
    "## path - путь, куда сохраняются графики\n",
    "## isShow - показывать ли графики (notebook позволяет смотреть)\n",
    "## label1, label2 - имена функций\n",
    "def Plotting(t, f2, x, y,  ccs, correlation_coeff, points, MONTHS, HOURS, path, isShow = False,\\\n",
    "             label1 = 'f2(t)', label2 = 'cubic regression'):\n",
    "    \n",
    "    #### Построение фигуры\n",
    "    ## Размер рисунка\n",
    "    plt.figure(figsize=(15,10))\n",
    "    ## Данные\n",
    "    ## f2(t) зеленым цветом, метки - треугольник, имя из label1, прозрачность 0.75\n",
    "    plt.plot(t, f2,'g^',label=label1, alpha = 0.75)\n",
    "    ## y(x) красным, точки, имя из label2, прозрачность 75%\n",
    "    plt.plot(x, y, 'r.', label=label2, alpha = 0.75)\n",
    "    ## Точка предсказанная, синяя, ромб, имя и координаты\n",
    "    plt.plot(points[0, 0],points[0, 1], 'bD',\\\n",
    "             label = '2019 prediction ({};{})'.format(points[0,0], points[0,1]));\n",
    "    ## Точка фактическая, фиолетовая, маркер - плюс, имя и координаты\n",
    "    plt.plot(points[1, 0],points[1, 1], color = 'magenta', marker ='P',\\\n",
    "             label = \"2019 factual ({};{})\".format(points[1,0], points[1, 1]));\n",
    "    ## Сетка синяя, прорачность 15%\n",
    "    plt.grid(True, color = 'blue',alpha = 0.15)\n",
    "    ## Тексты:\n",
    "    ## Уравнение гиперболы с коэффцициентами, коэф Пирсона\n",
    "    plt.annotate(\"foF2$_m$$_e$$_d$ = ({:.3e})$T^3$ + ({:.3e})$T^2$ + ({:.3e})$T$ + {:.4f}, \\n\\n\\\n",
    "    Pearson's correlation coefficient: {:.4f}\".format(ccs[3],ccs[2],ccs[1],ccs[0], correlation_coeff),\\\n",
    "             xy=(0, 1), xytext=(12, -12), va='top',\\\n",
    "             xycoords='axes fraction', textcoords='offset points', fontsize = 16)\n",
    "    \n",
    "    ## Заголовки\n",
    "    ##\n",
    "    ## имя рисунка\n",
    "    plt.title(\"{}, {} o'clock\".format(MONTHS, HOURS), fontsize= 20)\n",
    "    ## подпись оси аргументов\n",
    "    plt.xlabel(\"Индексы T\", fontsize = 16)\n",
    "    ## подпись оси ординат\n",
    "    plt.ylabel(\"Медианные частоты F2, МГц\", fontsize = 16)\n",
    "    ## Легенды: положение и размер шрифта\n",
    "    plt.legend(loc = 'lower right', fontsize = 16)\n",
    "    \n",
    "    ## Команда сохранения и отображения графика\n",
    "    ##\n",
    "    ## если папки не существует\n",
    "    if not (os.path.exists(path)):\n",
    "        ## создать\n",
    "        os.mkdir(path)\n",
    "    ## генерация имени файла\n",
    "    name = path + '/' + MONTHS + '-' + str(HOURS) + '.png'\n",
    "    ## сохранить график\n",
    "    plt.savefig(name)\n",
    "    ## если надо показать - показываем\n",
    "    if isShow:\n",
    "        plt.show()\n",
    "    ## закрываем рисунок\n",
    "    plt.close()"
   ]
  },
  {
   "cell_type": "markdown",
   "metadata": {},
   "source": [
    "<div><h3 align = 'Center'>Цикл перебора всех часов и месяцев</h3></div>"
   ]
  },
  {
   "cell_type": "code",
   "execution_count": null,
   "metadata": {},
   "outputs": [],
   "source": [
    "def mainCycle(data, data_tm, path = 'graphs'):\n",
    "    ## Заготовка таблицы с результатом\n",
    "    out_table = [];\n",
    "    out_table.append(\"Month, Hour, a, b, c, d, Pearson R\\n\")\n",
    "    ## Итерируемся по месяцам (столбцам таблицы Tindeces)\n",
    "    for MON in data.columns:\n",
    "        # Вторая итерация по часам (То ест мы для каждого месяца делаем итерации по каждому часу)\n",
    "        for HRS in range(0,24,1):\n",
    "            ## выбираем из таблицы частот нужные часы и года и смотрим, чтобы значения не были 0\n",
    "            dF = data_tm.query('HOUR == @HRS & YEAR <= @MAX_YEAR & {} > 0'.format(MON))[MON]\n",
    "            ## Для тех годов, которые есть в таблице частот, делаем выборку из таблицы индексов\n",
    "            dT = data.loc[data.index.isin(dF.index)][MON]\n",
    "            #### Извлечение данных из таблицы\n",
    "            ##\n",
    "            ## Получение данных t и f\n",
    "            t = dT.values[:]\n",
    "            f = dF.values[:]\n",
    "            ## Перевод в массивы\n",
    "            t1 = np.array(t);\n",
    "            f1 = np.array(f);\n",
    "            ## Запаковка в пары (x, y)\n",
    "            z = zip(t,f)\n",
    "            z1 = zip(t1,f1);\n",
    "            ## Очистка данных от шумов\n",
    "            f.sort()\n",
    "            t.sort()\n",
    "            ## Упорядочивание пар\n",
    "            zs = sorted(z, key = lambda tup: tup[0])\n",
    "            zs1 = sorted(z1, key = lambda tup: tup[0])\n",
    "            ## Обратная распаковка очищенных данных и упорядоченных данных\n",
    "            f = [z[1] for z in zs]\n",
    "            t = [z[0] for z in zs]\n",
    "            f1 = [z1[1] for z1 in zs1]\n",
    "            t1 = [z1[0] for z1 in zs1]\n",
    "            ## Перевод данных в массивы\n",
    "            t1 = np.array(t1)\n",
    "            t = np.array(t)\n",
    "            \n",
    "            ## Определение параметров функции для кубической апроксимации ##\n",
    "            ##\n",
    "            ## Сетка решения на статистически очищенной выборке\n",
    "            lv = np.arange(-30, t[len(t1) - 1] + 20, 1)\n",
    "            ## Расчет коэффициентов кубического уравнения\n",
    "            ## функция polyfit библиотеки numpy\n",
    "            tt = np.polyfit(t, f, 3)\n",
    "            ## Разворот вектора (т.к он идет в обратном направлении..)\n",
    "            tt = list(reversed(tt))\n",
    "            ## Построение гиперболы (см. функцию cube_funct)\n",
    "            cube_polyfit = cube_funct(tt,lv)\n",
    "            ## расчет коэффициента Пирсона (функция pearsonr библиотеку scipy.stats)\n",
    "            corr_coeff = pearsonr(t1, f1)[0]\n",
    "            ## Данные для таблицы результатов: упорядочиваем и запаковываем в строку\n",
    "            accumulated_info = \"{},{},{:.5e},{:.5e},{:.5e},{:.5f},{:.5f}\\\n",
    "            \\n\".format(MON, HRS, tt[3], tt[2], tt[1], tt[0], corr_coeff)\n",
    "            \n",
    "            #### Точки на графике\n",
    "            ## PREDICT - предсказание\n",
    "            ## Для выбранного часа и исследуемого года\n",
    "            dFP = data_tm.query('HOUR == @HRS & YEAR == @OBS_YEAR & {} != \"NaN\"'.format(MON))[MON]\n",
    "            ## Соответственно частоте выбираем индекс Т\n",
    "            dTP  = data.loc[data.index.isin(dFP.index)][MON]\n",
    "            ## Распаковка, расчет с известными коэффициентами, запаковка\n",
    "            kp = dTP.values[:]\n",
    "            resp = cube_funct(tt, kp)\n",
    "            predict = np.array([kp,resp])\n",
    "            ## для k получили f2(k)\n",
    "            ## FACT\n",
    "            ## Данные уже распакованы - просто запаковываем фактические данные\n",
    "            fact = np.array([dTP.values[:],dFP.values[:]])\n",
    "            points = np.array([predict,fact])\n",
    "            # для k получили f2(k)\n",
    "\n",
    "            ## Добавляем данные результатов в таблицы\n",
    "            out_table.append(accumulated_info)\n",
    "            ## Передаем функции отрисовки графиков\n",
    "            Plotting(t1, f1, lv, cube_polyfit, tt, corr_coeff, points, MON, HRS, path, False)\n",
    "    return out_table;"
   ]
  },
  {
   "cell_type": "markdown",
   "metadata": {},
   "source": [
    "<div><h3 align = 'center'>Отрисовка интерфейса, инициализация программы</h3></div>"
   ]
  },
  {
   "cell_type": "code",
   "execution_count": null,
   "metadata": {},
   "outputs": [],
   "source": [
    "## Параметры окна\n",
    "root = Tk()\n",
    "root.title(\"F2P\")\n",
    "f = Frame()\n",
    "\n",
    "## Мини-интерфейс\n",
    "text_info = \"Программа запущена\"\n",
    "l1 = Label(bg=\"lightgreen\", width=30, height=5, text = text_info)\n",
    "bi = Button(text=\"Загрузить файл индексов\", command=GetIndicesFile);\n",
    "bf = Button(text=\"Загрузить файл частот\", command=GetFrequencesFile);\n",
    "br = Button(text=\"Запуск расчета\", command = SetDependencies);\n",
    "\n",
    "## Упаковка элементов интерфейса\n",
    "l1.pack(padx = 10, pady = 10);\n",
    "bi.pack(padx = 10, pady = 10);\n",
    "bf.pack(padx = 10, pady = 10);\n",
    "br.pack(padx = 10, pady = 10)\n",
    "\n",
    "root.mainloop()"
   ]
  },
  {
   "cell_type": "markdown",
   "metadata": {},
   "source": [
    "<div><h3 align = 'center'>Примеры графиков результатов:</h3></div>"
   ]
  },
  {
   "cell_type": "markdown",
   "metadata": {},
   "source": [
    "<br><div>Ниже приведены 3 примера для различных моментов суток в разные времена года, которые отражают различную степень кривизны данных. Из графиков видно, что модель кубической регрессии является достаточно точной и хорошо описывает данные измерений.</div><div>Программа не предусматривает точечный расчет, поэтому в рамках демонстрации показаны уже посчитанные данные, однако любопытный исследователь может вопроизвести графики путем собственного исследования с помощью имеющихся данных.</div>"
   ]
  },
  {
   "cell_type": "code",
   "execution_count": null,
   "metadata": {},
   "outputs": [],
   "source": [
    "from IPython.display import Image\n",
    "Image(\"graphs/JUL-23.png\")"
   ]
  },
  {
   "cell_type": "code",
   "execution_count": null,
   "metadata": {},
   "outputs": [],
   "source": [
    "Image(\"graphs/NOV-0.png\")"
   ]
  },
  {
   "cell_type": "code",
   "execution_count": null,
   "metadata": {},
   "outputs": [],
   "source": [
    "Image(\"graphs/MAR-2.png\")"
   ]
  }
 ],
 "metadata": {
  "kernelspec": {
   "display_name": "Python 3",
   "language": "python",
   "name": "python3"
  },
  "language_info": {
   "codemirror_mode": {
    "name": "ipython",
    "version": 3
   },
   "file_extension": ".py",
   "mimetype": "text/x-python",
   "name": "python",
   "nbconvert_exporter": "python",
   "pygments_lexer": "ipython3",
   "version": "3.7.6-final"
  }
 },
 "nbformat": 4,
 "nbformat_minor": 4
}